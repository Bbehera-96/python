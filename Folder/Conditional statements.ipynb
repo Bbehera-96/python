{
 "cells": [
  {
   "cell_type": "markdown",
   "id": "7d2f8649-6a43-4188-9ae1-9befaa7a9ef9",
   "metadata": {},
   "source": [
    "Python Conditions and If statements\n",
    "if\n",
    "if else\n",
    "elif\n",
    "nested if else\n"
   ]
  },
  {
   "cell_type": "code",
   "execution_count": null,
   "id": "35d7a0f3-1a8e-4bbf-b144-77306e7e2a9d",
   "metadata": {},
   "outputs": [],
   "source": [
    "#Indentation\n",
    "#Python relies on indentation (whitespace at the beginning of a line) to define scope in the code.\n",
    "#Other programming languages often use curly-brackets for this purpose.{}"
   ]
  },
  {
   "cell_type": "code",
   "execution_count": null,
   "id": "1943dafb-f6a5-46e7-b6f4-5522bd7e1ed1",
   "metadata": {},
   "outputs": [],
   "source": [
    "#if:The basic if statement executes a block of code if a specified condition is true.\n",
    "Tomato = 15\n",
    "if Tomato <=10:\n",
    "    print(\"Bring 1kg of tomatoes\")"
   ]
  },
  {
   "cell_type": "code",
   "execution_count": 47,
   "id": "6d64270c-b34e-4434-801a-9ac098dbf138",
   "metadata": {},
   "outputs": [
    {
     "name": "stdout",
     "output_type": "stream",
     "text": [
      "Data science\n"
     ]
    }
   ],
   "source": [
    "\n",
    "\n",
    "x=13\n",
    "if x//2==6:\n",
    "  print(\"Data science\")"
   ]
  },
  {
   "cell_type": "code",
   "execution_count": 33,
   "id": "2482dbdc-b93a-4560-9803-dd4e818fb532",
   "metadata": {},
   "outputs": [
    {
     "name": "stdin",
     "output_type": "stream",
     "text": [
      " 12\n"
     ]
    },
    {
     "name": "stdout",
     "output_type": "stream",
     "text": [
      "Y is not less than 10\n"
     ]
    }
   ],
   "source": [
    "y=int(input())\n",
    "if not(y<10):\n",
    "  print(\"Y is not less than 10\")"
   ]
  },
  {
   "cell_type": "code",
   "execution_count": 31,
   "id": "f803e188-9f88-436b-abac-fbcca5f82ff6",
   "metadata": {},
   "outputs": [
    {
     "name": "stdout",
     "output_type": "stream",
     "text": [
      "b is greater than a\n"
     ]
    }
   ],
   "source": [
    "a = 33\n",
    "b = 200\n",
    "if b > a:      # : declaration\n",
    "    print(\"b is greater than a\")"
   ]
  },
  {
   "cell_type": "code",
   "execution_count": 11,
   "id": "4deb629d-fccf-4788-b0e0-a0f59e5b43bb",
   "metadata": {},
   "outputs": [
    {
     "name": "stdin",
     "output_type": "stream",
     "text": [
      " 100\n"
     ]
    }
   ],
   "source": [
    "x=int(input())\n",
    "if (not(x%2==0) and (x<10)):\n",
    "   print(\"Data science\")"
   ]
  },
  {
   "cell_type": "code",
   "execution_count": 43,
   "id": "e5945dda-248d-4d7c-87e2-4907dcdecd7c",
   "metadata": {},
   "outputs": [
    {
     "name": "stdout",
     "output_type": "stream",
     "text": [
      "x is smaller than 5\n"
     ]
    }
   ],
   "source": [
    "#if else:The if...else statement provides an alternative block of code to execute if the condition is false.\n",
    "x=3\n",
    "if x>5:\n",
    "    print(\"x is greater than 5\")\n",
    "else:\n",
    "    print(\"x is smaller than 5\")"
   ]
  },
  {
   "cell_type": "code",
   "execution_count": 41,
   "id": "8c0b386c-3fe0-45cc-b21c-215ab3cb9e96",
   "metadata": {},
   "outputs": [
    {
     "name": "stdin",
     "output_type": "stream",
     "text": [
      " 12\n"
     ]
    },
    {
     "name": "stdout",
     "output_type": "stream",
     "text": [
      "You are not allowed\n"
     ]
    }
   ],
   "source": [
    "age=int(input())\n",
    "has_permission=True\n",
    "if age>=18:\n",
    "  if has_permission:\n",
    "    print(\"Allowed\")\n",
    "  else:\n",
    "    print(\"Not Allowed\")\n",
    "else:\n",
    "  if age>=13:\n",
    "    print(\"Allowed with Guardian\")\n",
    "  else:\n",
    "    print(\"You are not allowed\")"
   ]
  },
  {
   "cell_type": "code",
   "execution_count": 45,
   "id": "87979904-d306-4e17-a7fc-bf62c511b9f7",
   "metadata": {},
   "outputs": [
    {
     "name": "stdin",
     "output_type": "stream",
     "text": [
      "tomatoes cost per kg:\n",
      " 12\n"
     ]
    },
    {
     "name": "stdout",
     "output_type": "stream",
     "text": [
      "Bring 5kg of tomatoes\n"
     ]
    }
   ],
   "source": [
    "#elif: The elif keyword is Python's way of saying \"if the previous conditions were not true, then try this condition\".\n",
    "Tomato=int(input(\"tomatoes cost per kg:\\n\"))\n",
    "if Tomato<40:\n",
    "    print(\"Bring 5kg of tomatoes\")\n",
    "elif Tomato<=50:\n",
    "    print(\"bring 2 kgs of tomatoes\")\n",
    "else:\n",
    "    print(\"bring 1/2 kg of tomatoes\")"
   ]
  },
  {
   "cell_type": "code",
   "execution_count": 35,
   "id": "edfa776b-1e07-4195-819a-06805101d244",
   "metadata": {},
   "outputs": [
    {
     "name": "stdin",
     "output_type": "stream",
     "text": [
      " 45\n"
     ]
    },
    {
     "name": "stdout",
     "output_type": "stream",
     "text": [
      "Grade C\n"
     ]
    }
   ],
   "source": [
    "marks=int(input())\n",
    "if marks<35:\n",
    "  print(\"Fail\")\n",
    "elif marks>=35 and marks<50:\n",
    "  print(\"Grade C\")\n",
    "elif marks>=50 and marks<75:\n",
    "  print(\"Grade B\")\n",
    "elif marks>=75 and marks<90:\n",
    "  print(\"Grade A\")\n",
    "else:\n",
    "  print(\"Grade A+\")"
   ]
  },
  {
   "cell_type": "code",
   "execution_count": 29,
   "id": "de660846-486c-4a0c-be83-d5daee3a91ff",
   "metadata": {},
   "outputs": [
    {
     "name": "stdout",
     "output_type": "stream",
     "text": [
      "science\n"
     ]
    }
   ],
   "source": [
    "x=\"data science\"\n",
    "if \"dxt\" in x:\n",
    "    print(\"data\")\n",
    "else:\n",
    "    print(\"science\")"
   ]
  },
  {
   "cell_type": "code",
   "execution_count": 50,
   "id": "216506d1-6cf4-4d15-b5a9-f06f618dbc7b",
   "metadata": {},
   "outputs": [
    {
     "name": "stdin",
     "output_type": "stream",
     "text": [
      "Enter a value for x:\n",
      " 12\n"
     ]
    },
    {
     "name": "stdout",
     "output_type": "stream",
     "text": [
      "x is greater than 10\n",
      "x is not greater than 20\n"
     ]
    }
   ],
   "source": [
    "#Nested if Statements:if statements can be nested inside other if statements to check multiple conditions.\n",
    "x = int(input(\"Enter a value for x:\\n\"))     #15\n",
    "if x > 10:\n",
    "    print(\"x is greater than 10\")\n",
    "    if x > 20:\n",
    "        print(\"x is also greater than 20\")\n",
    "    else:\n",
    "        print(\"x is not greater than 20\")\n",
    "else:\n",
    "    print(\"x is 10 or less\")"
   ]
  },
  {
   "cell_type": "code",
   "execution_count": 52,
   "id": "3a796903-de5e-4350-b1b7-46cb43efdaf0",
   "metadata": {},
   "outputs": [
    {
     "name": "stdin",
     "output_type": "stream",
     "text": [
      "Enter a value for x:\n",
      " 123\n"
     ]
    },
    {
     "name": "stdout",
     "output_type": "stream",
     "text": [
      "x is greater than 20\n"
     ]
    }
   ],
   "source": [
    "#Example with Multiple Conditions\n",
    "#Let's see a more complex example involving multiple conditions and\n",
    "#different blocks of code being executed based on the conditions.\n",
    "\n",
    "x =int(input(\"Enter a value for x:\\n\"))   #\\n = new line\n",
    "if x < 0:\n",
    "    print(\"x is negative\")\n",
    "elif x == 0:\n",
    "    print(\"x is zero\")\n",
    "elif 0 < x <= 10:     # 0 to 10\n",
    "    print(\"x is between 0 and 10\")\n",
    "elif 10 < x <= 20:     #10 to 20\n",
    "    print(\"x is between 10 and 20\")\n",
    "else:\n",
    "    print(\"x is greater than 20\")"
   ]
  },
  {
   "cell_type": "markdown",
   "id": "6c8317cc-81fd-4581-beb1-c13e90c857bc",
   "metadata": {},
   "source": [
    "For LOOP"
   ]
  },
  {
   "cell_type": "code",
   "execution_count": 5,
   "id": "bc1b1ee2-4e6b-41b8-b05d-c1777105b51a",
   "metadata": {},
   "outputs": [
    {
     "name": "stdout",
     "output_type": "stream",
     "text": [
      "1,a,2,b,3,c,"
     ]
    }
   ],
   "source": [
    "Numbers=[1,'a',2,'b',3,'c']\n",
    "for num in Numbers:\n",
    "    print(num,end=',')"
   ]
  },
  {
   "cell_type": "code",
   "execution_count": 13,
   "id": "07ec7810-ec1d-49b7-9352-d9e3356db9a0",
   "metadata": {},
   "outputs": [
    {
     "name": "stdout",
     "output_type": "stream",
     "text": [
      "d*,a*,t*,a*,s*,"
     ]
    }
   ],
   "source": [
    "for i in\"datas\":\n",
    "    print (i+\"*\",end=\",\")"
   ]
  },
  {
   "cell_type": "code",
   "execution_count": 17,
   "id": "3b188461-c0bd-4e16-94fb-f36c72bfbd35",
   "metadata": {},
   "outputs": [
    {
     "name": "stdout",
     "output_type": "stream",
     "text": [
      "10\n",
      "20\n",
      "30\n",
      "40\n",
      "50\n"
     ]
    }
   ],
   "source": [
    "for i in [1,2,3,4,5]:\n",
    "    print(i*10,end=\"\\n\") #\\n --new line"
   ]
  },
  {
   "cell_type": "code",
   "execution_count": 19,
   "id": "b8fe51bb-204b-452f-a654-6503ae5aeb66",
   "metadata": {},
   "outputs": [
    {
     "name": "stdout",
     "output_type": "stream",
     "text": [
      "10\t20\t30\t40\t50\t"
     ]
    }
   ],
   "source": [
    "for i in [1,2,3,4,5]:\n",
    "    print(i*10,end=\"\\t\") #\\t--backslash"
   ]
  },
  {
   "cell_type": "code",
   "execution_count": 37,
   "id": "3cf6d546-5eeb-47bc-a16a-d4da04b4b843",
   "metadata": {},
   "outputs": [
    {
     "name": "stdout",
     "output_type": "stream",
     "text": [
      "*\n",
      "**\n",
      "***\n",
      "****\n",
      "*****\n"
     ]
    }
   ],
   "source": [
    "#pattern programming\n",
    "\n",
    "for i in[1,2,3,4,5]:\n",
    "    print(i*\"*\")"
   ]
  },
  {
   "cell_type": "code",
   "execution_count": 23,
   "id": "021b4d1f-2ecb-4b5b-b746-342ce9c8054e",
   "metadata": {},
   "outputs": [
    {
     "name": "stdout",
     "output_type": "stream",
     "text": [
      "3\n",
      "33\n",
      "333\n",
      "3333\n",
      "33333\n"
     ]
    }
   ],
   "source": [
    "for i in[1,2,3,4,5]:\n",
    "    print(i*\"3\")"
   ]
  },
  {
   "cell_type": "code",
   "execution_count": null,
   "id": "a2cd0ebf-4310-463b-b56e-6225bf31e09e",
   "metadata": {},
   "outputs": [],
   "source": [
    "#pyramid\n"
   ]
  },
  {
   "cell_type": "code",
   "execution_count": null,
   "id": "10922f4d-546b-495a-81d2-b399e9ea0d1d",
   "metadata": {},
   "outputs": [],
   "source": [
    "#diamond"
   ]
  },
  {
   "cell_type": "code",
   "execution_count": 33,
   "id": "7d59638f-35f9-4d49-ac2f-f5c22a210321",
   "metadata": {},
   "outputs": [
    {
     "name": "stdout",
     "output_type": "stream",
     "text": [
      "0,2,4,6,8,10,12,14,16,18,20,22,24,26,28,30,32,34,36,38,40,42,44,46,48,50,52,54,56,58,60,62,64,66,68,70,72,74,76,78,80,82,84,86,88,90,92,94,96,98,"
     ]
    }
   ],
   "source": [
    "for i in range(0,100):\n",
    "   print(i,end=\",\")"
   ]
  },
  {
   "cell_type": "code",
   "execution_count": 35,
   "id": "d378dbea-028f-42f0-91ac-39d0c467f1a8",
   "metadata": {},
   "outputs": [
    {
     "name": "stdout",
     "output_type": "stream",
     "text": [
      "0,2,4,6,8,10,12,14,16,18,20,22,24,26,28,30,32,34,36,38,40,42,44,46,48,50,52,54,56,58,60,62,64,66,68,70,72,74,76,78,80,82,84,86,88,90,92,94,96,98,"
     ]
    }
   ],
   "source": [
    "#step size\n",
    "for i in range(0,100,2):\n",
    "   print(i,end=\",\")"
   ]
  },
  {
   "cell_type": "code",
   "execution_count": 45,
   "id": "92682075-46c9-4c38-a621-8f94ae777202",
   "metadata": {},
   "outputs": [
    {
     "name": "stdout",
     "output_type": "stream",
     "text": [
      "0,4,8,"
     ]
    }
   ],
   "source": [
    "#step size\n",
    "for i in range(0,10,4):\n",
    "    print(i,end=\",\")"
   ]
  },
  {
   "cell_type": "code",
   "execution_count": 49,
   "id": "6bfd541a-e4b8-4da4-96df-2616edc70e4c",
   "metadata": {},
   "outputs": [
    {
     "name": "stdout",
     "output_type": "stream",
     "text": [
      "0,0 is even number\n",
      "1,1 is odd number\n",
      "2,2 is even number\n",
      "3,3 is odd number\n",
      "4,4 is even number\n",
      "5,5 is odd number\n",
      "6,6 is even number\n",
      "7,7 is odd number\n",
      "8,8 is even number\n",
      "9,9 is odd number\n"
     ]
    }
   ],
   "source": [
    "#print even numbers:\n",
    "for i in range(0,10):\n",
    "    print(i,end=\",\")\n",
    "    if i%2==0:\n",
    "        print(i,\"is even number\")\n",
    "    else:\n",
    "        print(i,\"is odd number\")\n",
    "    "
   ]
  },
  {
   "cell_type": "code",
   "execution_count": 51,
   "id": "627c1b1d-73ca-4202-b5ea-fc64a117ec6f",
   "metadata": {},
   "outputs": [
    {
     "name": "stdout",
     "output_type": "stream",
     "text": [
      "DATA"
     ]
    }
   ],
   "source": [
    "for i in \"DATA12345\":\n",
    "  if i.isalpha():\n",
    "    print(i,end='')"
   ]
  },
  {
   "cell_type": "code",
   "execution_count": 53,
   "id": "6ec0f2c2-bd63-42c2-bbf3-0317191f5d37",
   "metadata": {},
   "outputs": [
    {
     "name": "stdout",
     "output_type": "stream",
     "text": [
      "! @ % * $ # $ & * @ @ $ # ^ ^ # & $ & $ "
     ]
    }
   ],
   "source": [
    "data =\"!@%*$#$&*@@$#^^#&$&$\"\n",
    "for i in data:\n",
    "  if i.isalnum()==False:\n",
    "    print(i,end=\" \")"
   ]
  },
  {
   "cell_type": "code",
   "execution_count": 55,
   "id": "172db6a2-c51e-4278-be4d-76386a560170",
   "metadata": {},
   "outputs": [
    {
     "name": "stdout",
     "output_type": "stream",
     "text": [
      "h\n",
      "e\n",
      "l\n",
      "l\n",
      "o\n",
      "hello\n"
     ]
    }
   ],
   "source": [
    "#Example: Iterating Over a String\n",
    "\n",
    "word = \"hello\"\n",
    "\n",
    "for letter in word:\n",
    "    print(letter)\n",
    "print(word)"
   ]
  },
  {
   "cell_type": "code",
   "execution_count": null,
   "id": "5216414d-9511-4db4-95d0-1bf6ba81070b",
   "metadata": {},
   "outputs": [],
   "source": []
  }
 ],
 "metadata": {
  "kernelspec": {
   "display_name": "Python 3 (ipykernel)",
   "language": "python",
   "name": "python3"
  },
  "language_info": {
   "codemirror_mode": {
    "name": "ipython",
    "version": 3
   },
   "file_extension": ".py",
   "mimetype": "text/x-python",
   "name": "python",
   "nbconvert_exporter": "python",
   "pygments_lexer": "ipython3",
   "version": "3.12.7"
  }
 },
 "nbformat": 4,
 "nbformat_minor": 5
}
