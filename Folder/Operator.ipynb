{
 "cells": [
  {
   "cell_type": "markdown",
   "id": "f5d9d1c2-5160-4452-bdca-b0a577f75ef4",
   "metadata": {},
   "source": [
    "operators:used to perform operations on variables and values.\n",
    "\n",
    "1.Arithmetic operators\n",
    "Addition x + y\n",
    "Subtraction x - y\n",
    "Multiplication x * y \n",
    "Division x / y \n",
    "Modulus x % y\n",
    "Exponentiation x ** y \n",
    "Floor division x // y\n",
    "\n",
    "\n",
    "2.Assignment operators\n",
    "3.Comparison operators\n",
    "4.Logical operators\n",
    "5.Identity operators\n",
    "6.Membership operators\n",
    "7.Bitwise operators"
   ]
  },
  {
   "cell_type": "markdown",
   "id": "af04dd20-a5e7-4da1-a894-588d47a1bbd4",
   "metadata": {},
   "source": [
    "#Addition\n",
    "\n",
    "x = 6\n",
    "y = 5\n",
    "addition = x + y\n",
    "print(addition)\n",
    "print(f\"Addition: {x} + {y} = {addition}\") #Printed O/P using formatted string\n",
    "# f string...> when we want to value as variable in o/p we use \"f\"\n",
    "\n",
    "x = 5\n",
    "y = 3\n",
    "\n",
    "print(x+y)"
   ]
  },
  {
   "cell_type": "code",
   "execution_count": 39,
   "id": "8d722caa-aa7e-44fe-9d12-aeba090e3276",
   "metadata": {},
   "outputs": [
    {
     "name": "stdout",
     "output_type": "stream",
     "text": [
      "Subtraction: 5 - 3 = 2\n",
      "Substraction of x and y= 2\n"
     ]
    }
   ],
   "source": [
    "#Subtraction (-): Subtracts the second number from the first.\n",
    "subtraction = x - y\n",
    "print(f\"Subtraction: {x} - {y} = {subtraction}\")\n",
    "print(\"Substraction of x and y=\",x-y)"
   ]
  },
  {
   "cell_type": "code",
   "execution_count": 14,
   "id": "774dad92-7235-42d6-8af4-a0bc5900cbac",
   "metadata": {},
   "outputs": [
    {
     "name": "stdout",
     "output_type": "stream",
     "text": [
      "Multiplication: 5 * 3 = 15\n",
      "multiplication of x and y= 15\n"
     ]
    }
   ],
   "source": [
    "#Multiplication (*): Multiplies two numbers.\n",
    "\n",
    "multiplication = x * y\n",
    "print(f\"Multiplication: {x} * {y} = {multiplication}\")\n",
    "print(\"multiplication of x and y=\",x*y)"
   ]
  },
  {
   "cell_type": "code",
   "execution_count": 16,
   "id": "68e44409-3ae9-43ea-9eee-4f257d15fe1c",
   "metadata": {},
   "outputs": [
    {
     "name": "stdout",
     "output_type": "stream",
     "text": [
      "3.75\n",
      "Division: 15 / 4 = 3.75\n"
     ]
    }
   ],
   "source": [
    "#Division (/): Divides the first number by the second.\n",
    "x= 15\n",
    "y= 4\n",
    "division = x / y\n",
    "print(division)\n",
    "print(f\"Division: {x} / {y} = {division}\")\n",
    "\n",
    "#Take any two numbers and perform addition, subtraction, multiplication and division"
   ]
  },
  {
   "cell_type": "code",
   "execution_count": 18,
   "id": "905cdeaa-5fc4-4d4d-92bc-0d171c27c522",
   "metadata": {},
   "outputs": [
    {
     "name": "stdout",
     "output_type": "stream",
     "text": [
      "3.75\n"
     ]
    },
    {
     "data": {
      "text/plain": [
       "float"
      ]
     },
     "execution_count": 18,
     "metadata": {},
     "output_type": "execute_result"
    }
   ],
   "source": [
    "print(x/y)\n",
    "type(x/y)"
   ]
  },
  {
   "cell_type": "code",
   "execution_count": 24,
   "id": "3b1ad9cb-ca40-46c0-a49d-b8db3b719c62",
   "metadata": {},
   "outputs": [
    {
     "name": "stdout",
     "output_type": "stream",
     "text": [
      "Modulus: 15 % 4 = 3\n"
     ]
    }
   ],
   "source": [
    "#Modulus (%): Returns the remainder of the division of the first number by the second.\n",
    "x= 15\n",
    "y= 4\n",
    "modulus = x % y    #Remainder\n",
    "print(f\"Modulus: {x} % {y} = {modulus}\")\n"
   ]
  },
  {
   "cell_type": "code",
   "execution_count": 26,
   "id": "313e822f-c825-4e7a-97b5-2e936afbacba",
   "metadata": {},
   "outputs": [
    {
     "name": "stdout",
     "output_type": "stream",
     "text": [
      "216\n"
     ]
    }
   ],
   "source": [
    "#Exponentiation : First number will be base and second number will be power of the first\n",
    "\n",
    "a =6\n",
    "b=3\n",
    "\n",
    "expn = a ** b\n",
    "print(expn)"
   ]
  },
  {
   "cell_type": "code",
   "execution_count": 28,
   "id": "2f3aaa42-05f9-4249-9949-840025e45c41",
   "metadata": {},
   "outputs": [
    {
     "name": "stdout",
     "output_type": "stream",
     "text": [
      "8\n"
     ]
    }
   ],
   "source": [
    "a,b=2,3\n",
    "expn=a**b\n",
    "print(expn)"
   ]
  },
  {
   "cell_type": "code",
   "execution_count": 32,
   "id": "3403a9f7-90b5-448a-b1b6-0115103b0814",
   "metadata": {},
   "outputs": [
    {
     "name": "stdout",
     "output_type": "stream",
     "text": [
      "Exponentiation: 5 ** 3 = 125\n"
     ]
    }
   ],
   "source": [
    "x= 5\n",
    "y= 3\n",
    "\n",
    "#5^3\n",
    "\n",
    "exponentiation = x ** y\n",
    "print(f\"Exponentiation: {x} ** {y} = {exponentiation}\")"
   ]
  },
  {
   "cell_type": "code",
   "execution_count": 34,
   "id": "84c1ccc3-2667-421e-b6b6-0914ff8c65fe",
   "metadata": {},
   "outputs": [
    {
     "name": "stdout",
     "output_type": "stream",
     "text": [
      "Floor division: 5 // 3 = 1\n",
      "1.6666666666666667\n"
     ]
    }
   ],
   "source": [
    "#Floor Division (//): Divides the first number by the second and returns the closest integer less than or equal to the result.\n",
    "x= 5\n",
    "y= 3\n",
    "division = x/y\n",
    "floor_division = x // y\n",
    "print(f\"Floor division: {x} // {y} = {floor_division}\")\n",
    "print(division)"
   ]
  },
  {
   "cell_type": "code",
   "execution_count": 36,
   "id": "ab341dcd-5d38-4534-b875-6ca03487805d",
   "metadata": {},
   "outputs": [
    {
     "name": "stdout",
     "output_type": "stream",
     "text": [
      "2\n"
     ]
    }
   ],
   "source": [
    "a=9\n",
    "b=4\n",
    "\n",
    "fl_di=a//b\n",
    "print(fl_di)"
   ]
  },
  {
   "cell_type": "markdown",
   "id": "f3d86b33-29d1-41b9-8a34-6a6140e15052",
   "metadata": {},
   "source": [
    "Assignment operators are used to assign values to variables: \n",
    "Operator   Example\t   Same As\n",
    "=\t       x = 5\t   x = 5\n",
    "+=\t       x += 3\t   x = x + 3\n",
    "-=\t       x -= 3\t   x = x - 3\n",
    "*=\t       x *= 3\t   x = x * 3\n",
    "/=\t       x /= 3\t   x = x / 3\n",
    "%=\t       x %= 3\t   x = x % 3\n",
    "//=\t       x //= 3\t   x = x // 3\n",
    "**=\t       x **= 3\t   x = x ** 3\n",
    "&=\t       x &= 3\t   x = x & 3\n",
    "|=\t       x |= 3\t   x = x | 3\n",
    "^=\t       x ^= 3\t   x = x ^ 3\n",
    ">>=\t       x >>= 3\t   x = x >> 3\n",
    "<<=\t       x <<= 3\t   x = x << 3\n",
    ":=\t       print(x := 3)\tx = 3\n",
    "                            print(x)"
   ]
  },
  {
   "cell_type": "code",
   "execution_count": 41,
   "id": "e26f2de8-8f93-4b5c-a354-f2a5427d0b80",
   "metadata": {},
   "outputs": [
    {
     "name": "stdout",
     "output_type": "stream",
     "text": [
      "5\n",
      "10\n"
     ]
    }
   ],
   "source": [
    "# = Assignment:\n",
    "\n",
    "x=5\n",
    "print(x)\n",
    "\n",
    "a = 10\n",
    "\n",
    "print(a)"
   ]
  },
  {
   "cell_type": "code",
   "execution_count": 43,
   "id": "5ba9c1ac-f24c-454c-b1e8-aa2b0e49933b",
   "metadata": {},
   "outputs": [
    {
     "name": "stdout",
     "output_type": "stream",
     "text": [
      "5\n",
      "20\n"
     ]
    }
   ],
   "source": [
    "# = Assignment:\n",
    "\n",
    "x=5\n",
    "print(x)\n",
    "\n",
    "a += 10\n",
    "\n",
    "print(a)"
   ]
  },
  {
   "cell_type": "code",
   "execution_count": 47,
   "id": "a66948ad-aecb-4ee0-b840-ed1a8e3e4961",
   "metadata": {},
   "outputs": [
    {
     "name": "stdout",
     "output_type": "stream",
     "text": [
      "8\n"
     ]
    }
   ],
   "source": [
    "# += Addition Assignment:\n",
    "x=5\n",
    "x+= 3  #x=x+3  #x =5+3\n",
    "print(x)\n"
   ]
  },
  {
   "cell_type": "code",
   "execution_count": 49,
   "id": "f73d1b05-732f-46e9-a904-ed087cf423b2",
   "metadata": {},
   "outputs": [
    {
     "name": "stdout",
     "output_type": "stream",
     "text": [
      "5\n"
     ]
    }
   ],
   "source": [
    "# -= Subtraction Assignment:\n",
    "x-=3    #x = x -3  #8-3\n",
    "print(x)\n"
   ]
  },
  {
   "cell_type": "code",
   "execution_count": 51,
   "id": "cba7392b-10ec-4169-8284-b5061b504582",
   "metadata": {},
   "outputs": [
    {
     "name": "stdout",
     "output_type": "stream",
     "text": [
      "Value of x: 15\n"
     ]
    }
   ],
   "source": [
    "# *= Multiplication Assignment:\n",
    "x*=3   #x = x * 3  #5*3\n",
    "print(\"Value of x:\",(x))"
   ]
  },
  {
   "cell_type": "code",
   "execution_count": 53,
   "id": "1a2632d1-703f-46ac-b959-73c4ccd65f4c",
   "metadata": {},
   "outputs": [
    {
     "name": "stdout",
     "output_type": "stream",
     "text": [
      "5.0\n"
     ]
    }
   ],
   "source": [
    "# /= Division Assignment:\n",
    "x /= 3 \n",
    "print(x)"
   ]
  },
  {
   "cell_type": "code",
   "execution_count": 55,
   "id": "58a4671c-a307-4602-9768-8686e6df878a",
   "metadata": {},
   "outputs": [
    {
     "name": "stdout",
     "output_type": "stream",
     "text": [
      "2.0\n",
      "3\n"
     ]
    }
   ],
   "source": [
    "# %= Modulus Assignment:\n",
    "x%= 3  # x = X % 3  #5%3\n",
    "print(x)\n",
    "\n",
    "# //= Floor division\n",
    "y= 16\n",
    "y //= 5   #y= y//5\n",
    "\n",
    "print(y)\n"
   ]
  },
  {
   "cell_type": "code",
   "execution_count": null,
   "id": "c19ab4d7-82b8-421b-acb0-dc834e3ab5d0",
   "metadata": {},
   "outputs": [],
   "source": [
    "# &= Bitwise AND Assignment:\n",
    "#& is the bitwise AND operator, which compares each bit of two numbers and returns a new number.\n",
    "#Each bit in the result is 1 if the corresponding bits in both operands are 1, otherwise the bit is 0.\n",
    "# 1   0   0\n",
    "# 1   1   1\n",
    "# 0   1   0\n",
    "#1    1    1\n",
    "x = 5  #  0101\n",
    "x &= 3  # 0011; Equivalent to x = x & 3\n",
    "print(x)  #0001\n",
    "bin(x)\n",
    "\n",
    "y = 6\n",
    "\n",
    "y &=4\n",
    "\n",
    "print(y)\n",
    "\n",
    "bin(y)\n",
    "\n",
    "bin(26)"
   ]
  },
  {
   "cell_type": "code",
   "execution_count": 59,
   "id": "06ef6fc2-4b14-497e-b253-c3f51d848cc5",
   "metadata": {},
   "outputs": [
    {
     "name": "stdout",
     "output_type": "stream",
     "text": [
      "4\n"
     ]
    },
    {
     "data": {
      "text/plain": [
       "'0b100'"
      ]
     },
     "execution_count": 59,
     "metadata": {},
     "output_type": "execute_result"
    }
   ],
   "source": [
    "a =5  #0101\n",
    "b =6  #0110\n",
    "\n",
    "c =a & b  #0100\n",
    "\n",
    "print(c)\n",
    "bin(c)"
   ]
  },
  {
   "cell_type": "code",
   "execution_count": 61,
   "id": "efef0fc2-a00c-4116-bb7a-cdd1e9b0cac4",
   "metadata": {},
   "outputs": [
    {
     "name": "stdout",
     "output_type": "stream",
     "text": [
      "7\n"
     ]
    },
    {
     "data": {
      "text/plain": [
       "'0b111'"
      ]
     },
     "execution_count": 61,
     "metadata": {},
     "output_type": "execute_result"
    }
   ],
   "source": [
    "x = 5  # 0101\n",
    "x |= 3  #0011; Equivalent to x = x | 3\n",
    "print(x)  #(0111)\n",
    "bin(x)"
   ]
  },
  {
   "cell_type": "code",
   "execution_count": 1,
   "id": "2888c62a-ab04-4c28-a243-d8e33886f34b",
   "metadata": {},
   "outputs": [
    {
     "name": "stdout",
     "output_type": "stream",
     "text": [
      "7\n"
     ]
    },
    {
     "data": {
      "text/plain": [
       "'0b111'"
      ]
     },
     "execution_count": 1,
     "metadata": {},
     "output_type": "execute_result"
    }
   ],
   "source": [
    "#bitwise or\n",
    "\n",
    "x = 5  # 0101\n",
    "x |= 3  #0011; Equivalent to x = x | 3\n",
    "print(x)  #(0111)\n",
    "bin(x)"
   ]
  },
  {
   "cell_type": "code",
   "execution_count": 5,
   "id": "2c7d5be8-e8c8-4da2-ac99-ba673e3dd9c1",
   "metadata": {},
   "outputs": [
    {
     "name": "stdout",
     "output_type": "stream",
     "text": [
      "6\n"
     ]
    },
    {
     "data": {
      "text/plain": [
       "'0b110'"
      ]
     },
     "execution_count": 5,
     "metadata": {},
     "output_type": "execute_result"
    }
   ],
   "source": [
    "# Bitwise XOR (^) Operation\n",
    "#Bit1\tBit2\tResult\n",
    "#0\t     0\t  0\n",
    "#0 \t     1\t  1\n",
    "#1\t     0\t  1\n",
    "#1\t     1\t  0\n",
    "x = 5  # 0101\n",
    "x ^= 3  # 0011; Equivalent to x = x ^ 3\n",
    "print(x)\n",
    "bin(x)  # (0110)\n"
   ]
  },
  {
   "cell_type": "markdown",
   "id": "8daed611-781f-4a4d-bad5-c3a625910dc9",
   "metadata": {},
   "source": [
    "#The >>= (right shift assignment)\n",
    "x >> 1\t1000\t1\t0100\t4\n",
    "x >> 2\t1000\t2\t0010\t2\n",
    "x >> 3\t1000\t3\t0001\t1"
   ]
  },
  {
   "cell_type": "code",
   "execution_count": 7,
   "id": "6c8f3166-1ab7-4184-a25e-f187a2e90f28",
   "metadata": {},
   "outputs": [
    {
     "name": "stdout",
     "output_type": "stream",
     "text": [
      "2\n"
     ]
    }
   ],
   "source": [
    "x = 8  # 1000\n",
    "x >>= 2  # Equivalent to x = x >> 2\n",
    "print(x)  # (0010)"
   ]
  },
  {
   "cell_type": "code",
   "execution_count": 11,
   "id": "98766d74-ab2d-415b-91d5-e110a2a25bd0",
   "metadata": {},
   "outputs": [
    {
     "name": "stdout",
     "output_type": "stream",
     "text": [
      "0b1\n",
      "1\n"
     ]
    }
   ],
   "source": [
    "y=10\n",
    "y>>=3  #0001\n",
    "print(bin(y))\n",
    "print(y)"
   ]
  },
  {
   "cell_type": "markdown",
   "id": "dd9aa17c-2e0e-4e32-90aa-08d5e60ec52f",
   "metadata": {},
   "source": [
    "#The <<= (left shift assignment)"
   ]
  },
  {
   "cell_type": "code",
   "execution_count": 4,
   "id": "ae87aa7f-4bbc-41f0-aca9-02bf98b11702",
   "metadata": {},
   "outputs": [
    {
     "name": "stdout",
     "output_type": "stream",
     "text": [
      "12\n"
     ]
    }
   ],
   "source": [
    "x = 3  # 0011\n",
    "x <<= 2  # Equivalent to x = x << 2\n",
    "print(x)  # (1100)\n"
   ]
  },
  {
   "cell_type": "markdown",
   "id": "186e7386-6ac6-4f46-90ad-1f9fec4d39c6",
   "metadata": {},
   "source": [
    "# :=\n",
    "#The walrus operator := assigns a value to a variable as part of an expression"
   ]
  },
  {
   "cell_type": "code",
   "execution_count": 15,
   "id": "ec59c985-f26a-4004-a4c9-840e27bbf39e",
   "metadata": {},
   "outputs": [
    {
     "name": "stdout",
     "output_type": "stream",
     "text": [
      "3\n"
     ]
    }
   ],
   "source": [
    "\n",
    "print(x := 3)  # Assigns 3 to x and prints it\n"
   ]
  },
  {
   "cell_type": "markdown",
   "id": "9af15acb-7403-4c33-9f0b-061202c08026",
   "metadata": {},
   "source": [
    "COMPARISION OPERATOR"
   ]
  },
  {
   "cell_type": "code",
   "execution_count": 2,
   "id": "0a55aeff-8f49-482f-99a5-3e8fee9f24a3",
   "metadata": {},
   "outputs": [
    {
     "ename": "NameError",
     "evalue": "name 'X' is not defined",
     "output_type": "error",
     "traceback": [
      "\u001b[1;31m---------------------------------------------------------------------------\u001b[0m",
      "\u001b[1;31mNameError\u001b[0m                                 Traceback (most recent call last)",
      "Cell \u001b[1;32mIn[2], line 2\u001b[0m\n\u001b[0;32m      1\u001b[0m \u001b[38;5;66;03m#== EQUAL TO\u001b[39;00m\n\u001b[1;32m----> 2\u001b[0m X\u001b[38;5;241m==\u001b[39mY\n\u001b[0;32m      3\u001b[0m X\u001b[38;5;241m=\u001b[39m\u001b[38;5;241m5\u001b[39m\n\u001b[0;32m      4\u001b[0m Y\u001b[38;5;241m=\u001b[39m\u001b[38;5;241m7\u001b[39m\n",
      "\u001b[1;31mNameError\u001b[0m: name 'X' is not defined"
     ]
    }
   ],
   "source": [
    "#== EQUAL TO\n",
    "X==Y\n",
    "X=5\n",
    "Y=7--------FALSE\n",
    "\n",
    "#NOT EQUAL TO X!=Y \n",
    "X=5\n",
    "Y=5 -------------FALSE\n",
    "\n",
    "#GREATER THAN X>Y #X=5,Y=3---->FALSE\n",
    "#LESS THAN X<Y ..X=5,Y=5-------->TRUE\n"
   ]
  },
  {
   "cell_type": "code",
   "execution_count": 4,
   "id": "2d15f2dd-7a5e-4592-8020-e54f6c5f39d1",
   "metadata": {},
   "outputs": [
    {
     "data": {
      "text/plain": [
       "False"
      ]
     },
     "execution_count": 4,
     "metadata": {},
     "output_type": "execute_result"
    }
   ],
   "source": [
    "x=5\n",
    "y=3\n",
    "x==y"
   ]
  },
  {
   "cell_type": "code",
   "execution_count": 6,
   "id": "f1c62699-288a-4f22-add6-d3c7f8decaed",
   "metadata": {},
   "outputs": [
    {
     "data": {
      "text/plain": [
       "False"
      ]
     },
     "execution_count": 6,
     "metadata": {},
     "output_type": "execute_result"
    }
   ],
   "source": [
    "x=15\n",
    "y=20\n",
    "x>y"
   ]
  },
  {
   "cell_type": "code",
   "execution_count": 8,
   "id": "d42a8f50-7d97-4dca-8116-aefffd5fee66",
   "metadata": {},
   "outputs": [
    {
     "data": {
      "text/plain": [
       "True"
      ]
     },
     "execution_count": 8,
     "metadata": {},
     "output_type": "execute_result"
    }
   ],
   "source": [
    "x=15\n",
    "y=20\n",
    "x<y"
   ]
  },
  {
   "cell_type": "code",
   "execution_count": 10,
   "id": "8043b287-6b3a-4dd7-a75c-6fce0e83ba66",
   "metadata": {},
   "outputs": [
    {
     "data": {
      "text/plain": [
       "False"
      ]
     },
     "execution_count": 10,
     "metadata": {},
     "output_type": "execute_result"
    }
   ],
   "source": [
    "x=15\n",
    "y=20\n",
    "x>=y"
   ]
  },
  {
   "cell_type": "code",
   "execution_count": 12,
   "id": "b33df4c5-16ea-4783-bbcf-059109fc3611",
   "metadata": {},
   "outputs": [
    {
     "data": {
      "text/plain": [
       "True"
      ]
     },
     "execution_count": 12,
     "metadata": {},
     "output_type": "execute_result"
    }
   ],
   "source": [
    "x=15\n",
    "y=20\n",
    "x<=y"
   ]
  },
  {
   "cell_type": "markdown",
   "id": "a4a47dcb-d6a3-4ce0-9bec-0dc3835a8b65",
   "metadata": {},
   "source": [
    "LOGICAL OPERATOR\n",
    "return true if both statements are true."
   ]
  },
  {
   "cell_type": "code",
   "execution_count": 27,
   "id": "7b137af9-9a9b-4c69-a913-d2d01f2a1b53",
   "metadata": {},
   "outputs": [
    {
     "name": "stdout",
     "output_type": "stream",
     "text": [
      "True\n"
     ]
    }
   ],
   "source": [
    "A=5\n",
    "B=10\n",
    "\n",
    "print(A>2 and B>=10)"
   ]
  },
  {
   "cell_type": "code",
   "execution_count": 29,
   "id": "dd73c3fd-1623-4498-b6b2-4333178f6a36",
   "metadata": {},
   "outputs": [
    {
     "name": "stdout",
     "output_type": "stream",
     "text": [
      "True\n",
      "True\n"
     ]
    }
   ],
   "source": [
    "print(A>2 or B<10)\n",
    "print(A>2 or B<8)"
   ]
  },
  {
   "cell_type": "code",
   "execution_count": 31,
   "id": "0c0e87b6-d408-4019-9250-748d78eb64ef",
   "metadata": {},
   "outputs": [
    {
     "name": "stdout",
     "output_type": "stream",
     "text": [
      "False\n"
     ]
    }
   ],
   "source": [
    "print(not(A>2 or B<8))"
   ]
  },
  {
   "cell_type": "markdown",
   "id": "240f0d54-4d7b-4bf8-ad1f-0912205222dd",
   "metadata": {},
   "source": [
    "IDENTITY OPERATOR"
   ]
  },
  {
   "cell_type": "code",
   "execution_count": 41,
   "id": "91e1eede-d830-4475-b9d1-18b5b6218f13",
   "metadata": {},
   "outputs": [
    {
     "name": "stdout",
     "output_type": "stream",
     "text": [
      "True\n",
      "False\n",
      "False\n"
     ]
    }
   ],
   "source": [
    "#IS\n",
    "#IS NOT\n",
    "a=[1,2,3] #memory loc 1\n",
    "b=a #1\n",
    "c=[1,2,3]  #memoy loc 2\n",
    "d=c        #2\n",
    "print(a is b)\n",
    "print(a is c)\n",
    "print(c is not d)\n",
    "\n",
    "\n"
   ]
  },
  {
   "cell_type": "markdown",
   "id": "2af60b66-6456-4bf4-b424-270283808d4a",
   "metadata": {},
   "source": [
    "Membership operator-retuen true if specified value is present i sequence."
   ]
  },
  {
   "cell_type": "code",
   "execution_count": 46,
   "id": "51ce2d33-eb3b-4681-a86b-ea5843f48301",
   "metadata": {},
   "outputs": [
    {
     "name": "stdout",
     "output_type": "stream",
     "text": [
      "True\n",
      "True\n",
      "False\n"
     ]
    }
   ],
   "source": [
    "fruits=['apple','banana','grape']\n",
    "print('banana' in fruits)\n",
    "print('grape' in fruits)\n",
    "print('cherry' in fruits)"
   ]
  },
  {
   "cell_type": "code",
   "execution_count": 54,
   "id": "0e298c78-81ed-44be-8a76-04bfcfd7337e",
   "metadata": {},
   "outputs": [
    {
     "name": "stdout",
     "output_type": "stream",
     "text": [
      "True\n",
      "True\n"
     ]
    }
   ],
   "source": [
    "text=\"hello world\"\n",
    "print('h' in text)\n",
    "print('hello' in text)"
   ]
  },
  {
   "cell_type": "markdown",
   "id": "2f7132ce-ec46-4eae-9fea-fb1339c34a4d",
   "metadata": {},
   "source": [
    "Bitwise Operator"
   ]
  },
  {
   "cell_type": "code",
   "execution_count": 2,
   "id": "a2172708-6793-4412-877c-2dee56c6d834",
   "metadata": {},
   "outputs": [
    {
     "name": "stdout",
     "output_type": "stream",
     "text": [
      "8\n"
     ]
    },
    {
     "data": {
      "text/plain": [
       "'0b1000'"
      ]
     },
     "execution_count": 2,
     "metadata": {},
     "output_type": "execute_result"
    }
   ],
   "source": [
    "a=12\n",
    "b=10\n",
    "print(a&b)\n",
    "bin(a&b)"
   ]
  },
  {
   "cell_type": "code",
   "execution_count": 4,
   "id": "12af2f44-d546-47fd-9dcb-ce95dd7746a5",
   "metadata": {},
   "outputs": [
    {
     "name": "stdout",
     "output_type": "stream",
     "text": [
      "14\n"
     ]
    },
    {
     "data": {
      "text/plain": [
       "'0b1110'"
      ]
     },
     "execution_count": 4,
     "metadata": {},
     "output_type": "execute_result"
    }
   ],
   "source": [
    "a=12\n",
    "b=10\n",
    "print(a|b)\n",
    "bin(a|b)"
   ]
  },
  {
   "cell_type": "code",
   "execution_count": 6,
   "id": "ce2e79b5-95c8-425f-a08a-7b6b1a60cfbf",
   "metadata": {},
   "outputs": [
    {
     "name": "stdout",
     "output_type": "stream",
     "text": [
      "6\n"
     ]
    },
    {
     "data": {
      "text/plain": [
       "'0b110'"
      ]
     },
     "execution_count": 6,
     "metadata": {},
     "output_type": "execute_result"
    }
   ],
   "source": [
    "a=12\n",
    "b=10\n",
    "print(a^b)\n",
    "bin(a^b)"
   ]
  },
  {
   "cell_type": "code",
   "execution_count": null,
   "id": "aefab612-bee5-48d4-8ef4-0e4c4aa01500",
   "metadata": {},
   "outputs": [],
   "source": [
    "a=12\n",
    "b=10\n",
    "print(a&b)\n",
    "bin(a&b)"
   ]
  },
  {
   "cell_type": "code",
   "execution_count": 1,
   "id": "8ae30356-753e-43ef-89f2-e57193cacff3",
   "metadata": {},
   "outputs": [
    {
     "name": "stdout",
     "output_type": "stream",
     "text": [
      "82\n"
     ]
    }
   ],
   "source": [
    "#How to convert Binary into Decimals\n",
    "\n",
    "a = int('1010010' ,2)\n",
    "print(a)"
   ]
  },
  {
   "cell_type": "code",
   "execution_count": 3,
   "id": "2053a5fd-8238-4ecb-a05b-d27fe08ade5d",
   "metadata": {},
   "outputs": [
    {
     "name": "stdout",
     "output_type": "stream",
     "text": [
      "71\n"
     ]
    }
   ],
   "source": [
    "# convert 1 0 0 0 1 1 1 into decimal\n",
    "\n",
    "b =int('1000111',2)\n",
    "print(b)"
   ]
  },
  {
   "cell_type": "code",
   "execution_count": null,
   "id": "f196e19a-58df-44a1-99cd-6ba1f33ca6bc",
   "metadata": {},
   "outputs": [],
   "source": []
  }
 ],
 "metadata": {
  "kernelspec": {
   "display_name": "Python 3 (ipykernel)",
   "language": "python",
   "name": "python3"
  },
  "language_info": {
   "codemirror_mode": {
    "name": "ipython",
    "version": 3
   },
   "file_extension": ".py",
   "mimetype": "text/x-python",
   "name": "python",
   "nbconvert_exporter": "python",
   "pygments_lexer": "ipython3",
   "version": "3.12.7"
  }
 },
 "nbformat": 4,
 "nbformat_minor": 5
}
