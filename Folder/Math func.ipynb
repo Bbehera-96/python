{
 "cells": [
  {
   "cell_type": "code",
   "execution_count": 1,
   "id": "958e372c-5899-45a2-8c13-2147fb55d3ca",
   "metadata": {},
   "outputs": [],
   "source": [
    "import math"
   ]
  },
  {
   "cell_type": "code",
   "execution_count": 3,
   "id": "f5e1c8fe-a608-4e00-8d9e-33d4753f13a4",
   "metadata": {},
   "outputs": [
    {
     "data": {
      "text/plain": [
       "10"
      ]
     },
     "execution_count": 3,
     "metadata": {},
     "output_type": "execute_result"
    }
   ],
   "source": [
    "math.ceil(9.1)"
   ]
  },
  {
   "cell_type": "code",
   "execution_count": 5,
   "id": "f9795a90-133f-4bc1-91f5-1ab9bd8611fe",
   "metadata": {},
   "outputs": [
    {
     "data": {
      "text/plain": [
       "2"
      ]
     },
     "execution_count": 5,
     "metadata": {},
     "output_type": "execute_result"
    }
   ],
   "source": [
    "math.floor(2.2)"
   ]
  },
  {
   "cell_type": "code",
   "execution_count": 7,
   "id": "f459c520-d8e1-413d-82f7-6e66afbf237b",
   "metadata": {},
   "outputs": [
    {
     "data": {
      "text/plain": [
       "1.4142135623730951"
      ]
     },
     "execution_count": 7,
     "metadata": {},
     "output_type": "execute_result"
    }
   ],
   "source": [
    "math.sqrt(2)"
   ]
  },
  {
   "cell_type": "code",
   "execution_count": 9,
   "id": "5f7ddd1c-655c-4650-ac52-d0d9cd459adf",
   "metadata": {},
   "outputs": [
    {
     "data": {
      "text/plain": [
       "1.4142135623730951"
      ]
     },
     "execution_count": 9,
     "metadata": {},
     "output_type": "execute_result"
    }
   ],
   "source": [
    "math.pow(2,1/2)"
   ]
  },
  {
   "cell_type": "code",
   "execution_count": 11,
   "id": "3d604860-3904-4db0-8db8-cb850ba78162",
   "metadata": {},
   "outputs": [
    {
     "data": {
      "text/plain": [
       "0.25"
      ]
     },
     "execution_count": 11,
     "metadata": {},
     "output_type": "execute_result"
    }
   ],
   "source": [
    "math.pow(2,-2)"
   ]
  },
  {
   "cell_type": "code",
   "execution_count": 13,
   "id": "0e01b6c0-5bfa-49b0-9fbd-59a33edbcc27",
   "metadata": {},
   "outputs": [
    {
     "data": {
      "text/plain": [
       "3.141592653589793"
      ]
     },
     "execution_count": 13,
     "metadata": {},
     "output_type": "execute_result"
    }
   ],
   "source": [
    "math.pi"
   ]
  },
  {
   "cell_type": "code",
   "execution_count": 15,
   "id": "7f6fc072-7d07-4e7d-bbc4-b3463b826a10",
   "metadata": {},
   "outputs": [
    {
     "data": {
      "text/plain": [
       "2.718281828459045"
      ]
     },
     "execution_count": 15,
     "metadata": {},
     "output_type": "execute_result"
    }
   ],
   "source": [
    "math.e"
   ]
  },
  {
   "cell_type": "code",
   "execution_count": 17,
   "id": "ce25ab29-0f39-4505-8725-3ec6def41021",
   "metadata": {},
   "outputs": [
    {
     "data": {
      "text/plain": [
       "100"
      ]
     },
     "execution_count": 17,
     "metadata": {},
     "output_type": "execute_result"
    }
   ],
   "source": [
    "math.trunc(100.1)"
   ]
  },
  {
   "cell_type": "code",
   "execution_count": 19,
   "id": "17754be1-19c1-4f8e-9c51-0e39001ad01f",
   "metadata": {},
   "outputs": [
    {
     "data": {
      "text/plain": [
       "7.0"
      ]
     },
     "execution_count": 19,
     "metadata": {},
     "output_type": "execute_result"
    }
   ],
   "source": [
    "math.fabs(-7)\n"
   ]
  },
  {
   "cell_type": "code",
   "execution_count": 21,
   "id": "e1a60f71-37d5-4b1c-b21d-8268bc20c7b0",
   "metadata": {},
   "outputs": [
    {
     "data": {
      "text/plain": [
       "7.38905609893065"
      ]
     },
     "execution_count": 21,
     "metadata": {},
     "output_type": "execute_result"
    }
   ],
   "source": [
    "math.exp(2) "
   ]
  },
  {
   "cell_type": "code",
   "execution_count": 23,
   "id": "fbe8e83a-0caf-4b03-9e9f-54d69744f819",
   "metadata": {},
   "outputs": [
    {
     "data": {
      "text/plain": [
       "3.0"
      ]
     },
     "execution_count": 23,
     "metadata": {},
     "output_type": "execute_result"
    }
   ],
   "source": [
    "math.log(8,2)"
   ]
  },
  {
   "cell_type": "code",
   "execution_count": 25,
   "id": "165d4ee9-2836-4a17-bd24-a491043de64e",
   "metadata": {},
   "outputs": [
    {
     "data": {
      "text/plain": [
       "120"
      ]
     },
     "execution_count": 25,
     "metadata": {},
     "output_type": "execute_result"
    }
   ],
   "source": [
    "math.factorial(5) "
   ]
  },
  {
   "cell_type": "code",
   "execution_count": 27,
   "id": "9e3c5fd4-0d5c-4622-80b9-07e2f9671c1f",
   "metadata": {},
   "outputs": [
    {
     "data": {
      "text/plain": [
       "40"
      ]
     },
     "execution_count": 27,
     "metadata": {},
     "output_type": "execute_result"
    }
   ],
   "source": [
    "math.gcd(40,80)   "
   ]
  },
  {
   "cell_type": "code",
   "execution_count": null,
   "id": "4efabbbe-993c-4a5a-bc7c-94467b94831a",
   "metadata": {},
   "outputs": [],
   "source": []
  }
 ],
 "metadata": {
  "kernelspec": {
   "display_name": "Python 3 (ipykernel)",
   "language": "python",
   "name": "python3"
  },
  "language_info": {
   "codemirror_mode": {
    "name": "ipython",
    "version": 3
   },
   "file_extension": ".py",
   "mimetype": "text/x-python",
   "name": "python",
   "nbconvert_exporter": "python",
   "pygments_lexer": "ipython3",
   "version": "3.12.7"
  }
 },
 "nbformat": 4,
 "nbformat_minor": 5
}
