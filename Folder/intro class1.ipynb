{
 "cells": [
  {
   "cell_type": "raw",
   "id": "b2549ece-619b-48ac-897c-ebeea21b865e",
   "metadata": {},
   "source": [
    "My Day1 of python"
   ]
  },
  {
   "cell_type": "markdown",
   "id": "7365dd20-e661-4bef-9e49-d911fca558d7",
   "metadata": {},
   "source": [
    "A:creating new cell above\n",
    "b:creating new cell below\n",
    "x:delete cell\n",
    "alt+ enter=new cell\n",
    "shift+m=merge\n",
    "c-copy\n"
   ]
  },
  {
   "cell_type": "code",
   "execution_count": 5,
   "id": "afd122d8-b8e6-49ee-a77b-80adfc173717",
   "metadata": {},
   "outputs": [
    {
     "name": "stdout",
     "output_type": "stream",
     "text": [
      "30\n"
     ]
    }
   ],
   "source": [
    "#a,b,c are varibale;which is container where store the value\n",
    "#'=' is operator\n",
    "#10,20 is value\n",
    "a=10\n",
    "b=20\n",
    "c=a+b\n",
    "print(c)"
   ]
  },
  {
   "cell_type": "code",
   "execution_count": 1,
   "id": "5f9e81ef-bc38-4296-b94b-1c982af143fa",
   "metadata": {},
   "outputs": [
    {
     "data": {
      "text/plain": [
       "str"
      ]
     },
     "execution_count": 1,
     "metadata": {},
     "output_type": "execute_result"
    }
   ],
   "source": [
    "A=\"BARSHA\"\n",
    "type(A)"
   ]
  },
  {
   "cell_type": "code",
   "execution_count": 5,
   "id": "480ab73f-f476-4761-bd26-eb150d97172d",
   "metadata": {},
   "outputs": [
    {
     "name": "stdout",
     "output_type": "stream",
     "text": [
      "8\n"
     ]
    },
    {
     "data": {
      "text/plain": [
       "int"
      ]
     },
     "execution_count": 5,
     "metadata": {},
     "output_type": "execute_result"
    }
   ],
   "source": [
    "a=18\n",
    "b=8\n",
    "a=b\n",
    "print(a)\n",
    "type(a)"
   ]
  },
  {
   "cell_type": "code",
   "execution_count": 14,
   "id": "e8adab3b-ee2b-493c-9456-0e9fbd235edb",
   "metadata": {},
   "outputs": [
    {
     "name": "stdout",
     "output_type": "stream",
     "text": [
      "2000\n"
     ]
    },
    {
     "data": {
      "text/plain": [
       "str"
      ]
     },
     "execution_count": 14,
     "metadata": {},
     "output_type": "execute_result"
    }
   ],
   "source": [
    "name='victor'\n",
    "salary=2000\n",
    "\n",
    "print(salary)\n",
    "type(name)"
   ]
  },
  {
   "cell_type": "code",
   "execution_count": 16,
   "id": "083cc59e-e23a-4a59-809e-1e9228e76386",
   "metadata": {},
   "outputs": [
    {
     "name": "stdout",
     "output_type": "stream",
     "text": [
      "10\n",
      "30\n",
      "50\n"
     ]
    }
   ],
   "source": [
    "x,y,z=10,30,50\n",
    "print(x)\n",
    "print(y)\n",
    "print(z)"
   ]
  },
  {
   "cell_type": "code",
   "execution_count": 35,
   "id": "6232c854-feae-406c-9611-98cb8604b481",
   "metadata": {},
   "outputs": [
    {
     "data": {
      "text/plain": [
       "'PYTHON BATCH'"
      ]
     },
     "execution_count": 35,
     "metadata": {},
     "output_type": "execute_result"
    }
   ],
   "source": [
    "Class='python batch'\n",
    "Class.upper()\n",
    "Class.capitalize()\n"
   ]
  },
  {
   "cell_type": "code",
   "execution_count": 38,
   "id": "8163370e-a232-4cbd-a2e4-d56f20eb56d0",
   "metadata": {},
   "outputs": [
    {
     "data": {
      "text/plain": [
       "'Python batch'"
      ]
     },
     "execution_count": 38,
     "metadata": {},
     "output_type": "execute_result"
    }
   ],
   "source": [
    "Class='python batch'\n",
    "Class.capitalize()"
   ]
  },
  {
   "cell_type": "code",
   "execution_count": 42,
   "id": "5bf02012-239a-4737-938a-585af4c87e04",
   "metadata": {},
   "outputs": [
    {
     "data": {
      "text/plain": [
       "'PYTHON BATCH'"
      ]
     },
     "execution_count": 42,
     "metadata": {},
     "output_type": "execute_result"
    }
   ],
   "source": [
    "Class='python batch'\n",
    "Class.swapcase()"
   ]
  },
  {
   "cell_type": "code",
   "execution_count": 44,
   "id": "12e3ef2d-eef3-4d3a-abbc-90b3c9cc9fb5",
   "metadata": {},
   "outputs": [
    {
     "data": {
      "text/plain": [
       "'Python Batch'"
      ]
     },
     "execution_count": 44,
     "metadata": {},
     "output_type": "execute_result"
    }
   ],
   "source": [
    "Class='python batch'\n",
    "Class.title()"
   ]
  },
  {
   "cell_type": "code",
   "execution_count": 46,
   "id": "9b4446be-46fd-400b-8a27-111883316264",
   "metadata": {},
   "outputs": [
    {
     "name": "stdout",
     "output_type": "stream",
     "text": [
      "barsha\n"
     ]
    },
    {
     "name": "stdin",
     "output_type": "stream",
     "text": [
      "enter value of x 10\n"
     ]
    }
   ],
   "source": [
    "#2way of assign variable\n",
    "a='barsha'\n",
    "print(a)\n",
    "#take input from user....\n",
    "a=int(input(\"enter value of x\"))"
   ]
  },
  {
   "cell_type": "code",
   "execution_count": 1,
   "id": "3395cc2c-b3c9-4cc2-ba23-4d6672d5591c",
   "metadata": {},
   "outputs": [
    {
     "name": "stdout",
     "output_type": "stream",
     "text": [
      "66.5\n"
     ]
    },
    {
     "data": {
      "text/plain": [
       "float"
      ]
     },
     "execution_count": 1,
     "metadata": {},
     "output_type": "execute_result"
    }
   ],
   "source": [
    "w=66.5\n",
    "print(w)\n",
    "type(w)"
   ]
  },
  {
   "cell_type": "code",
   "execution_count": null,
   "id": "5e3a5e20-2e73-4f1b-ba7c-e7546a952473",
   "metadata": {},
   "outputs": [],
   "source": []
  }
 ],
 "metadata": {
  "kernelspec": {
   "display_name": "Python 3 (ipykernel)",
   "language": "python",
   "name": "python3"
  },
  "language_info": {
   "codemirror_mode": {
    "name": "ipython",
    "version": 3
   },
   "file_extension": ".py",
   "mimetype": "text/x-python",
   "name": "python",
   "nbconvert_exporter": "python",
   "pygments_lexer": "ipython3",
   "version": "3.12.7"
  }
 },
 "nbformat": 4,
 "nbformat_minor": 5
}
