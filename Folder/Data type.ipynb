{
 "cells": [
  {
   "cell_type": "markdown",
   "id": "5f561125-d6e5-4f4d-a348-5283edb3a377",
   "metadata": {},
   "source": [
    "#DATA TYPE..............\n",
    "1.mutable\n",
    "2.immutable\n",
    "INT\n",
    "FLOAT\n",
    "Complex\n",
    "STRING\n",
    "------------------------------------------------------------------------------------------\n"
   ]
  },
  {
   "cell_type": "code",
   "execution_count": 17,
   "id": "9d5d5ec4-0997-450c-ac32-25c5d70f61c4",
   "metadata": {},
   "outputs": [
    {
     "name": "stdin",
     "output_type": "stream",
     "text": [
      "enter value of x 12\n"
     ]
    }
   ],
   "source": [
    "a=int(input(\"enter value of x\"))\n"
   ]
  },
  {
   "cell_type": "code",
   "execution_count": 15,
   "id": "1c853f67-0e3e-417a-9902-5b74dc5edcab",
   "metadata": {},
   "outputs": [
    {
     "name": "stdin",
     "output_type": "stream",
     "text": [
      "give a decimal values: 12.22\n"
     ]
    }
   ],
   "source": [
    "w=float(input(\"give a decimal values:\"))"
   ]
  },
  {
   "cell_type": "code",
   "execution_count": 1,
   "id": "6841254c-1701-4660-90a5-ce0992df98a0",
   "metadata": {},
   "outputs": [
    {
     "data": {
      "text/plain": [
       "complex"
      ]
     },
     "execution_count": 1,
     "metadata": {},
     "output_type": "execute_result"
    }
   ],
   "source": [
    "#complex numeric data type: n+ij\n",
    "#it is represented by complex class\n",
    "#it is specified as real + img part j\n",
    "b=5+4j\n",
    "type(b)\n"
   ]
  },
  {
   "cell_type": "code",
   "execution_count": 5,
   "id": "0eafcc30-4bc1-4ca5-ad96-17be28262254",
   "metadata": {},
   "outputs": [
    {
     "name": "stdout",
     "output_type": "stream",
     "text": [
      "welcome to the world of python\n"
     ]
    },
    {
     "data": {
      "text/plain": [
       "str"
      ]
     },
     "execution_count": 5,
     "metadata": {},
     "output_type": "execute_result"
    }
   ],
   "source": [
    "#String data type\n",
    "#a string is a collection of one or more characters \n",
    "#it can be presented by single ,double, triple quotes.\n",
    "\n",
    "string1='welcome to the world of python'\n",
    "print(string1)\n",
    "type(string1)\n"
   ]
  },
  {
   "cell_type": "code",
   "execution_count": 13,
   "id": "83f35ee4-dee9-41fb-8443-aaa70dd824f1",
   "metadata": {},
   "outputs": [
    {
     "name": "stdout",
     "output_type": "stream",
     "text": [
      "welcome to the world of python,\n",
      "          and python is very easy\n"
     ]
    },
    {
     "data": {
      "text/plain": [
       "str"
      ]
     },
     "execution_count": 13,
     "metadata": {},
     "output_type": "execute_result"
    }
   ],
   "source": [
    "#for multi line sentence we use triple quote\n",
    "\n",
    "string2='''welcome to the world of python,\n",
    "          and python is very easy'''\n",
    "\n",
    "print(string2)\n",
    "type(string2)"
   ]
  },
  {
   "cell_type": "markdown",
   "id": "47779e82-f968-41c4-81f8-0b4441f3063d",
   "metadata": {},
   "source": [
    "SLICING OF STRING\n",
    "----------------------------------------------------------"
   ]
  },
  {
   "cell_type": "code",
   "execution_count": 19,
   "id": "f040c3b9-d9a8-47b2-8575-07fcdab990f1",
   "metadata": {},
   "outputs": [
    {
     "name": "stdout",
     "output_type": "stream",
     "text": [
      "welcome to the world of python\n",
      "\n",
      " first character of string is:\n",
      "w\n"
     ]
    }
   ],
   "source": [
    "print(string1)\n",
    "print(\"\\n first character of string is:\")\n",
    "print(string1[0])"
   ]
  },
  {
   "cell_type": "code",
   "execution_count": 21,
   "id": "de44bef4-d017-48fd-a5de-9cc907467add",
   "metadata": {},
   "outputs": [
    {
     "name": "stdout",
     "output_type": "stream",
     "text": [
      "welcome to the world of python\n",
      "\n",
      " Last character of string is:\n",
      "n\n"
     ]
    }
   ],
   "source": [
    "print(string1)\n",
    "print(\"\\n Last character of string is:\")\n",
    "print(string1[-1])"
   ]
  },
  {
   "cell_type": "code",
   "execution_count": 23,
   "id": "38d58c57-6be0-4dc8-bae8-3e83e9426a42",
   "metadata": {},
   "outputs": [
    {
     "name": "stdout",
     "output_type": "stream",
     "text": [
      "welcome to the world of python\n",
      "l\n"
     ]
    }
   ],
   "source": [
    "print(string1)\n",
    "print(string1[2])"
   ]
  },
  {
   "cell_type": "code",
   "execution_count": 33,
   "id": "52458be8-32a3-42b4-8cd4-b73013f81892",
   "metadata": {},
   "outputs": [
    {
     "data": {
      "text/plain": [
       "'ome to the python technolo'"
      ]
     },
     "execution_count": 33,
     "metadata": {},
     "output_type": "execute_result"
    }
   ],
   "source": [
    "str=\"welcome to the python technology\"\n",
    "str[4:-2]\n",
    "#print(str[-5])"
   ]
  },
  {
   "cell_type": "code",
   "execution_count": 5,
   "id": "92389110-607a-49e2-b27d-89b4574af90a",
   "metadata": {},
   "outputs": [
    {
     "name": "stdout",
     "output_type": "stream",
     "text": [
      "Modern Architecture\n"
     ]
    }
   ],
   "source": [
    "topics = [\n",
    "    ['Math', ['Algebra', 'Calculus', 'Geometry']],\n",
    "    ['Science', ['Physics', 'Chemistry', 'Biology']],\n",
    "    ['Technology', ['Programming', 'Networking', 'AI']],\n",
    "    ['History', ['Ancient', 'Medieval', 'Modern']],\n",
    "    ['Art', ['Painting', 'Sculpture', 'Architecture']]\n",
    "]\n",
    "\n",
    "print(topics[3][1][-1]+\" \"+topics[4][1][2])"
   ]
  },
  {
   "cell_type": "code",
   "execution_count": 70,
   "id": "78d2b3da-5284-415a-9dea-2ed30e39b38d",
   "metadata": {},
   "outputs": [
    {
     "data": {
      "text/plain": [
       "'data science'"
      ]
     },
     "execution_count": 70,
     "metadata": {},
     "output_type": "execute_result"
    }
   ],
   "source": [
    "S=\"data science\"\n",
    "S[:12]"
   ]
  },
  {
   "cell_type": "code",
   "execution_count": 72,
   "id": "c4157be0-3a3c-4219-b610-85bbe6a26718",
   "metadata": {},
   "outputs": [
    {
     "data": {
      "text/plain": [
       "'data'"
      ]
     },
     "execution_count": 72,
     "metadata": {},
     "output_type": "execute_result"
    }
   ],
   "source": [
    "S[:4]"
   ]
  },
  {
   "cell_type": "code",
   "execution_count": 74,
   "id": "3952b9fa-7481-4d9b-8119-023977f6523a",
   "metadata": {},
   "outputs": [
    {
     "data": {
      "text/plain": [
       "'data science'"
      ]
     },
     "execution_count": 74,
     "metadata": {},
     "output_type": "execute_result"
    }
   ],
   "source": [
    "S[0:25]"
   ]
  },
  {
   "cell_type": "code",
   "execution_count": 76,
   "id": "cee6c608-e02f-48ed-bd72-dd264bccc78f",
   "metadata": {},
   "outputs": [
    {
     "data": {
      "text/plain": [
       "'data science'"
      ]
     },
     "execution_count": 76,
     "metadata": {},
     "output_type": "execute_result"
    }
   ],
   "source": [
    "S[:]\n"
   ]
  },
  {
   "cell_type": "code",
   "execution_count": 80,
   "id": "a97bef23-a476-41f7-a2ab-111de58828db",
   "metadata": {},
   "outputs": [
    {
     "data": {
      "text/plain": [
       "'science'"
      ]
     },
     "execution_count": 80,
     "metadata": {},
     "output_type": "execute_result"
    }
   ],
   "source": [
    "S[5:12]"
   ]
  },
  {
   "cell_type": "code",
   "execution_count": 88,
   "id": "7c74e699-1304-469d-ab20-0242c4542af1",
   "metadata": {},
   "outputs": [
    {
     "data": {
      "text/plain": [
       "''"
      ]
     },
     "execution_count": 88,
     "metadata": {},
     "output_type": "execute_result"
    }
   ],
   "source": [
    "S[-1:8]"
   ]
  },
  {
   "cell_type": "markdown",
   "id": "fa96afa4-6d7b-41ca-a07e-b5e04379511d",
   "metadata": {},
   "source": [
    "Functions--"
   ]
  },
  {
   "cell_type": "code",
   "execution_count": 19,
   "id": "f9ca1872-01ab-4f20-ac3f-950e27643da6",
   "metadata": {},
   "outputs": [
    {
     "data": {
      "text/plain": [
       "False"
      ]
     },
     "execution_count": 19,
     "metadata": {},
     "output_type": "execute_result"
    }
   ],
   "source": [
    "c=\"DATA SCIENCE\"\n",
    "c.endswith(\"C\")\n",
    "#print(C)"
   ]
  },
  {
   "cell_type": "code",
   "execution_count": 21,
   "id": "9c6fab51-ae1e-4f84-b437-9aa689e23a55",
   "metadata": {},
   "outputs": [
    {
     "data": {
      "text/plain": [
       "True"
      ]
     },
     "execution_count": 21,
     "metadata": {},
     "output_type": "execute_result"
    }
   ],
   "source": [
    "c=\"DATA SCIENCE\"\n",
    "c.startswith(\"D\")"
   ]
  },
  {
   "cell_type": "code",
   "execution_count": 25,
   "id": "00103395-4b6a-4d0f-8189-8873405da8c9",
   "metadata": {},
   "outputs": [
    {
     "data": {
      "text/plain": [
       "['+91', '9348815770']"
      ]
     },
     "execution_count": 25,
     "metadata": {},
     "output_type": "execute_result"
    }
   ],
   "source": [
    "a=\"+91-9348815770\"\n",
    "a.split(\"-\")"
   ]
  },
  {
   "cell_type": "code",
   "execution_count": 29,
   "id": "e679937e-a1b2-48c6-95ca-f41ed675ec70",
   "metadata": {},
   "outputs": [
    {
     "data": {
      "text/plain": [
       "['+91', '9348815770', '7008151007']"
      ]
     },
     "execution_count": 29,
     "metadata": {},
     "output_type": "execute_result"
    }
   ],
   "source": [
    "a=\"+91-9348815770-7008151007\"\n",
    "a.split(\"-\")"
   ]
  },
  {
   "cell_type": "code",
   "execution_count": 31,
   "id": "22734f1f-9674-4a97-9232-dee16093c92f",
   "metadata": {},
   "outputs": [
    {
     "data": {
      "text/plain": [
       "['+91-934881', '770-70081', '1007']"
      ]
     },
     "execution_count": 31,
     "metadata": {},
     "output_type": "execute_result"
    }
   ],
   "source": [
    "a=\"+91-9348815770-7008151007\"\n",
    "a.split(\"5\")"
   ]
  },
  {
   "cell_type": "code",
   "execution_count": 33,
   "id": "651fbcca-5c2b-48f7-b4a2-89391da8a3f0",
   "metadata": {},
   "outputs": [
    {
     "data": {
      "text/plain": [
       "'barsha'"
      ]
     },
     "execution_count": 33,
     "metadata": {},
     "output_type": "execute_result"
    }
   ],
   "source": [
    "#strip():used to formatting of the data\n",
    "a=\"    barsha    \"\n",
    "a.strip()"
   ]
  },
  {
   "cell_type": "code",
   "execution_count": 37,
   "id": "681be10c-ddda-48e3-8a14-4192a1fdff22",
   "metadata": {},
   "outputs": [
    {
     "data": {
      "text/plain": [
       "'barsha    '"
      ]
     },
     "execution_count": 37,
     "metadata": {},
     "output_type": "execute_result"
    }
   ],
   "source": [
    "a=\"    barsha    \"\n",
    "a.lstrip()"
   ]
  },
  {
   "cell_type": "code",
   "execution_count": 41,
   "id": "a9887abb-a63b-46dd-b835-e7ff07a13a23",
   "metadata": {},
   "outputs": [
    {
     "data": {
      "text/plain": [
       "'    barsha'"
      ]
     },
     "execution_count": 41,
     "metadata": {},
     "output_type": "execute_result"
    }
   ],
   "source": [
    "a=\"    barsha    \"\n",
    "a.rstrip()"
   ]
  },
  {
   "cell_type": "code",
   "execution_count": 43,
   "id": "b5b88c50-13a8-442b-91b5-8137b45cc0fd",
   "metadata": {},
   "outputs": [
    {
     "data": {
      "text/plain": [
       "'***data***'"
      ]
     },
     "execution_count": 43,
     "metadata": {},
     "output_type": "execute_result"
    }
   ],
   "source": [
    "#center\n",
    "a=\"data\"\n",
    "a.center(10,\"*\")"
   ]
  },
  {
   "cell_type": "code",
   "execution_count": 51,
   "id": "e0b183dd-f8ad-4d84-8d4f-8206752cc58b",
   "metadata": {},
   "outputs": [
    {
     "data": {
      "text/plain": [
       "'******data'"
      ]
     },
     "execution_count": 51,
     "metadata": {},
     "output_type": "execute_result"
    }
   ],
   "source": [
    "#just\n",
    "a.rjust(10,\"*\")\n",
    "#a.ljust(9,\"*\")"
   ]
  },
  {
   "cell_type": "code",
   "execution_count": 60,
   "id": "d452abfd-8cb1-4a18-858d-45c7db8d569e",
   "metadata": {},
   "outputs": [
    {
     "data": {
      "text/plain": [
       "1"
      ]
     },
     "execution_count": 60,
     "metadata": {},
     "output_type": "execute_result"
    }
   ],
   "source": [
    "#index----it gives us the 1st occurance\n",
    "a=\"data\"\n",
    "a.index(\"a\")"
   ]
  },
  {
   "cell_type": "code",
   "execution_count": 62,
   "id": "fd8550ff-5da2-4a0c-8e8b-a826839a6b21",
   "metadata": {},
   "outputs": [
    {
     "data": {
      "text/plain": [
       "2"
      ]
     },
     "execution_count": 62,
     "metadata": {},
     "output_type": "execute_result"
    }
   ],
   "source": [
    "a=\"data\"\n",
    "a.index(\"t\")"
   ]
  },
  {
   "cell_type": "code",
   "execution_count": 66,
   "id": "2d829a0c-935c-49e0-a1fe-8941940a37cf",
   "metadata": {},
   "outputs": [
    {
     "data": {
      "text/plain": [
       "'adabdac'"
      ]
     },
     "execution_count": 66,
     "metadata": {},
     "output_type": "execute_result"
    }
   ],
   "source": [
    "#join--used to merge strings\n",
    "\n",
    "\"da\".join(\"abc\")"
   ]
  },
  {
   "cell_type": "code",
   "execution_count": 68,
   "id": "9c5536d9-f8ef-4ec0-98cc-cac1e45ab107",
   "metadata": {},
   "outputs": [
    {
     "data": {
      "text/plain": [
       "'a12b12c12d'"
      ]
     },
     "execution_count": 68,
     "metadata": {},
     "output_type": "execute_result"
    }
   ],
   "source": [
    "\"12\".join(\"abcd\")"
   ]
  },
  {
   "cell_type": "code",
   "execution_count": 11,
   "id": "6e012088-d926-4e90-94d6-d8a760fdbf59",
   "metadata": {},
   "outputs": [
    {
     "data": {
      "text/plain": [
       "'MALE'"
      ]
     },
     "execution_count": 11,
     "metadata": {},
     "output_type": "execute_result"
    }
   ],
   "source": [
    "s=\"machine learning\"\n",
    "\n",
    "(s[ :2].upper()+s[8:10].upper())"
   ]
  },
  {
   "cell_type": "code",
   "execution_count": 13,
   "id": "651eab8b-4f8c-46ac-831b-f337fbf5f6a7",
   "metadata": {},
   "outputs": [
    {
     "data": {
      "text/plain": [
       "'MANE'"
      ]
     },
     "execution_count": 13,
     "metadata": {},
     "output_type": "execute_result"
    }
   ],
   "source": [
    "(s[ :2].upper()+s[5:7].upper())"
   ]
  },
  {
   "cell_type": "code",
   "execution_count": 19,
   "id": "0e70037b-b963-46eb-a8aa-0330cd622ba3",
   "metadata": {},
   "outputs": [
    {
     "data": {
      "text/plain": [
       "'MANE Ear'"
      ]
     },
     "execution_count": 19,
     "metadata": {},
     "output_type": "execute_result"
    }
   ],
   "source": [
    "#MANEEar\n",
    "(s[ :2].upper()+s[5:7].upper()+\" \"+s[9:12].capitalize())"
   ]
  },
  {
   "cell_type": "code",
   "execution_count": null,
   "id": "e1ce9f58-eb49-4903-9e24-236cbd2aa964",
   "metadata": {},
   "outputs": [],
   "source": []
  }
 ],
 "metadata": {
  "kernelspec": {
   "display_name": "Python 3 (ipykernel)",
   "language": "python",
   "name": "python3"
  },
  "language_info": {
   "codemirror_mode": {
    "name": "ipython",
    "version": 3
   },
   "file_extension": ".py",
   "mimetype": "text/x-python",
   "name": "python",
   "nbconvert_exporter": "python",
   "pygments_lexer": "ipython3",
   "version": "3.12.7"
  }
 },
 "nbformat": 4,
 "nbformat_minor": 5
}
